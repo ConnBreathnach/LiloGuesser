{
  "nbformat": 4,
  "nbformat_minor": 0,
  "metadata": {
    "colab": {
      "name": "Chess.ipynb",
      "provenance": [],
      "collapsed_sections": [],
      "authorship_tag": "ABX9TyPnAmcJ3OJQGbPtBynhHLHi",
      "include_colab_link": true
    },
    "kernelspec": {
      "name": "python3",
      "display_name": "Python 3"
    },
    "accelerator": "GPU"
  },
  "cells": [
    {
      "cell_type": "markdown",
      "metadata": {
        "id": "view-in-github",
        "colab_type": "text"
      },
      "source": [
        "<a href=\"https://colab.research.google.com/github/ConnBreathnach/LiloGuesser/blob/main/Chess.ipynb\" target=\"_parent\"><img src=\"https://colab.research.google.com/assets/colab-badge.svg\" alt=\"Open In Colab\"/></a>"
      ]
    },
    {
      "cell_type": "code",
      "metadata": {
        "id": "v8sgfhls4sl4",
        "colab": {
          "base_uri": "https://localhost:8080/"
        },
        "outputId": "3f24b55c-673d-4a69-a50a-aabaf9627c56"
      },
      "source": [
        "\n",
        "import tensorflow as tf\n",
        "import numpy as np\n",
        "import pandas as pd\n",
        "from tensorflow.keras.layers.experimental.preprocessing import TextVectorization\n",
        "import matplotlib.pyplot as plt\n",
        "\n",
        "from google.colab import drive\n",
        "drive.mount('/content/drive')\n",
        "\n",
        "# from google.colab import files\n",
        "\n",
        "# uploaded = files.upload()\n",
        "\n",
        "# for fn in uploaded.keys():\n",
        "#   print('User uploaded file \"{name}\" with length {length} bytes'.format(\n",
        "#       name=fn, length=len(uploaded[fn])))"
      ],
      "execution_count": null,
      "outputs": [
        {
          "output_type": "stream",
          "text": [
            "Drive already mounted at /content/drive; to attempt to forcibly remount, call drive.mount(\"/content/drive\", force_remount=True).\n"
          ],
          "name": "stdout"
        }
      ]
    },
    {
      "cell_type": "code",
      "metadata": {
        "id": "U_sipsAc5Ey8"
      },
      "source": [
        "\n",
        "VOCAB_SIZE = 10863\n",
        "BATCH_SIZE=1024\n",
        "data = pd.read_csv(\"/content/drive/MyDrive/ChessData/train_games.csv\")\n",
        "data.dropna(inplace=True)\n",
        "\n",
        "data['white_min_elo'] = pd.Categorical(data['white_min_elo'])\n",
        "data['white_min_elo'] = data.white_min_elo.cat.codes\n",
        "\n",
        "features = data.pop('moves').astype(\"string\")\n",
        "labels = data.pop('white_min_elo')\n",
        "\n",
        "dataset = tf.data.Dataset.from_tensor_slices((features, labels)).batch(BATCH_SIZE)\n",
        "\n",
        "\n",
        "test_data = pd.read_csv(\"/content/drive/MyDrive/ChessData/test_games.csv\")\n",
        "test_data.dropna(inplace=True)\n",
        "test_data['white_min_elo'] = pd.Categorical(test_data['white_min_elo'])\n",
        "test_data['white_min_elo'] = test_data.white_min_elo.cat.codes\n",
        "test_features = test_data.pop('moves').astype(\"string\")\n",
        "test_labels = test_data.pop('white_min_elo')\n",
        "test_dataset = tf.data.Dataset.from_tensor_slices((test_features,test_labels)).batch(BATCH_SIZE)\n"
      ],
      "execution_count": null,
      "outputs": []
    },
    {
      "cell_type": "code",
      "metadata": {
        "id": "qAdDdLc95IRC"
      },
      "source": [
        "vectorize_layer = TextVectorization(\n",
        "    max_tokens=VOCAB_SIZE,\n",
        "    output_mode=\"int\",\n",
        "    output_sequence_length=150\n",
        ")"
      ],
      "execution_count": null,
      "outputs": []
    },
    {
      "cell_type": "code",
      "metadata": {
        "id": "9bsxTj-m5-O-"
      },
      "source": [
        "vectorize_layer.adapt(dataset.map(lambda text, labels: text))"
      ],
      "execution_count": null,
      "outputs": []
    },
    {
      "cell_type": "code",
      "metadata": {
        "id": "VJKZWcNK5_62"
      },
      "source": [
        "def get_model():\n",
        "    model = tf.keras.Sequential(\n",
        "        [\n",
        "            vectorize_layer,\n",
        "            tf.keras.layers.Embedding(\n",
        "                input_dim=len(vectorize_layer.get_vocabulary()),\n",
        "                output_dim=1024,\n",
        "                mask_zero=True\n",
        "            ),\n",
        "            tf.keras.layers.Bidirectional(tf.keras.layers.GRU(1024)),\n",
        "            tf.keras.layers.Dense(512, activation='relu'),\n",
        "            tf.keras.layers.Dense(128, activation='relu'),\n",
        "            tf.keras.layers.Dense(21)\n",
        "        ]\n",
        "    )\n",
        "    model.compile(optimizer=\"SGD\", loss=tf.keras.losses.SparseCategoricalCrossentropy(from_logits=True),\n",
        "                  metrics=['accuracy'])\n",
        "\n",
        "    return model\n"
      ],
      "execution_count": null,
      "outputs": []
    },
    {
      "cell_type": "code",
      "metadata": {
        "id": "HnpPkW4e6BIg"
      },
      "source": [
        "  \n",
        "sample_game = \"e4 e5 bc4 nc6 qf3 a6 qxf7#\""
      ],
      "execution_count": null,
      "outputs": []
    },
    {
      "cell_type": "code",
      "metadata": {
        "id": "mEJ7JuSG6CgY",
        "colab": {
          "base_uri": "https://localhost:8080/"
        },
        "outputId": "4e26d7ef-7c2a-4670-f427-0c5e159d688a"
      },
      "source": [
        "new_model = get_model()\n",
        "# new_model.predict(np.array([sample_game]))\n",
        "# new_model.summary()\n",
        "new_history = new_model.fit(dataset, epochs=15, validation_data=test_dataset, validation_steps=30)"
      ],
      "execution_count": null,
      "outputs": [
        {
          "output_type": "stream",
          "text": [
            "Epoch 1/15\n",
            "879/879 [==============================] - 3669s 4s/step - loss: 2.4394 - accuracy: 0.1660 - val_loss: 2.3082 - val_accuracy: 0.1657\n",
            "Epoch 2/15\n",
            "879/879 [==============================] - 3665s 4s/step - loss: 2.2893 - accuracy: 0.1678 - val_loss: 2.2972 - val_accuracy: 0.1658\n",
            "Epoch 3/15\n",
            "879/879 [==============================] - 3676s 4s/step - loss: 2.2846 - accuracy: 0.1683 - val_loss: 2.2945 - val_accuracy: 0.1666\n",
            "Epoch 4/15\n",
            "879/879 [==============================] - 3673s 4s/step - loss: 2.2828 - accuracy: 0.1688 - val_loss: 2.2930 - val_accuracy: 0.1686\n",
            "Epoch 5/15\n",
            "879/879 [==============================] - 3680s 4s/step - loss: 2.2815 - accuracy: 0.1694 - val_loss: 2.2916 - val_accuracy: 0.1723\n",
            "Epoch 6/15\n",
            "122/879 [===>..........................] - ETA: 51:38 - loss: 2.2829 - accuracy: 0.1700"
          ],
          "name": "stdout"
        }
      ]
    },
    {
      "cell_type": "code",
      "metadata": {
        "id": "d8sBDPizf5I4"
      },
      "source": [
        ""
      ],
      "execution_count": null,
      "outputs": []
    }
  ]
}